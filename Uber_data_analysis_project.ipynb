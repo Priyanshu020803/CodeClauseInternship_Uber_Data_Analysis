{
  "nbformat": 4,
  "nbformat_minor": 0,
  "metadata": {
    "colab": {
      "provenance": []
    },
    "kernelspec": {
      "name": "python3",
      "display_name": "Python 3"
    },
    "language_info": {
      "name": "python"
    }
  },
  "cells": [
    {
      "cell_type": "markdown",
      "source": [
        "# Uber Data Analysis (EDA)"
      ],
      "metadata": {
        "id": "sE9zz-1B7OCH"
      }
    },
    {
      "cell_type": "code",
      "execution_count": 146,
      "metadata": {
        "id": "0MDo7vJSO2QX"
      },
      "outputs": [],
      "source": [
        "import pandas as pd\n",
        "import seaborn as sns\n",
        "import matplotlib.pyplot as plt\n",
        "from sklearn.metrics import mean_squared_error, r2_score"
      ]
    },
    {
      "cell_type": "code",
      "source": [
        "df = pd.read_csv(\"/content/UberDataset.csv\")\n",
        "df.head()"
      ],
      "metadata": {
        "colab": {
          "base_uri": "https://localhost:8080/",
          "height": 206
        },
        "id": "5V6tN7JUQfVt",
        "outputId": "61784b86-333e-41f2-cf9c-c3357a5fc273"
      },
      "execution_count": 147,
      "outputs": [
        {
          "output_type": "execute_result",
          "data": {
            "text/plain": [
              "         START_DATE          END_DATE  CATEGORY        START             STOP  \\\n",
              "0  01-01-2016 21:11  01-01-2016 21:17  Business  Fort Pierce      Fort Pierce   \n",
              "1  01-02-2016 01:25  01-02-2016 01:37  Business  Fort Pierce      Fort Pierce   \n",
              "2  01-02-2016 20:25  01-02-2016 20:38  Business  Fort Pierce      Fort Pierce   \n",
              "3  01-05-2016 17:31  01-05-2016 17:45  Business  Fort Pierce      Fort Pierce   \n",
              "4  01-06-2016 14:42  01-06-2016 15:49  Business  Fort Pierce  West Palm Beach   \n",
              "\n",
              "   MILES          PURPOSE  \n",
              "0    5.1   Meal/Entertain  \n",
              "1    5.0              NaN  \n",
              "2    4.8  Errand/Supplies  \n",
              "3    4.7          Meeting  \n",
              "4   63.7   Customer Visit  "
            ],
            "text/html": [
              "\n",
              "  <div id=\"df-14cdfcf6-0139-420f-b4c0-3733e6f48c28\" class=\"colab-df-container\">\n",
              "    <div>\n",
              "<style scoped>\n",
              "    .dataframe tbody tr th:only-of-type {\n",
              "        vertical-align: middle;\n",
              "    }\n",
              "\n",
              "    .dataframe tbody tr th {\n",
              "        vertical-align: top;\n",
              "    }\n",
              "\n",
              "    .dataframe thead th {\n",
              "        text-align: right;\n",
              "    }\n",
              "</style>\n",
              "<table border=\"1\" class=\"dataframe\">\n",
              "  <thead>\n",
              "    <tr style=\"text-align: right;\">\n",
              "      <th></th>\n",
              "      <th>START_DATE</th>\n",
              "      <th>END_DATE</th>\n",
              "      <th>CATEGORY</th>\n",
              "      <th>START</th>\n",
              "      <th>STOP</th>\n",
              "      <th>MILES</th>\n",
              "      <th>PURPOSE</th>\n",
              "    </tr>\n",
              "  </thead>\n",
              "  <tbody>\n",
              "    <tr>\n",
              "      <th>0</th>\n",
              "      <td>01-01-2016 21:11</td>\n",
              "      <td>01-01-2016 21:17</td>\n",
              "      <td>Business</td>\n",
              "      <td>Fort Pierce</td>\n",
              "      <td>Fort Pierce</td>\n",
              "      <td>5.1</td>\n",
              "      <td>Meal/Entertain</td>\n",
              "    </tr>\n",
              "    <tr>\n",
              "      <th>1</th>\n",
              "      <td>01-02-2016 01:25</td>\n",
              "      <td>01-02-2016 01:37</td>\n",
              "      <td>Business</td>\n",
              "      <td>Fort Pierce</td>\n",
              "      <td>Fort Pierce</td>\n",
              "      <td>5.0</td>\n",
              "      <td>NaN</td>\n",
              "    </tr>\n",
              "    <tr>\n",
              "      <th>2</th>\n",
              "      <td>01-02-2016 20:25</td>\n",
              "      <td>01-02-2016 20:38</td>\n",
              "      <td>Business</td>\n",
              "      <td>Fort Pierce</td>\n",
              "      <td>Fort Pierce</td>\n",
              "      <td>4.8</td>\n",
              "      <td>Errand/Supplies</td>\n",
              "    </tr>\n",
              "    <tr>\n",
              "      <th>3</th>\n",
              "      <td>01-05-2016 17:31</td>\n",
              "      <td>01-05-2016 17:45</td>\n",
              "      <td>Business</td>\n",
              "      <td>Fort Pierce</td>\n",
              "      <td>Fort Pierce</td>\n",
              "      <td>4.7</td>\n",
              "      <td>Meeting</td>\n",
              "    </tr>\n",
              "    <tr>\n",
              "      <th>4</th>\n",
              "      <td>01-06-2016 14:42</td>\n",
              "      <td>01-06-2016 15:49</td>\n",
              "      <td>Business</td>\n",
              "      <td>Fort Pierce</td>\n",
              "      <td>West Palm Beach</td>\n",
              "      <td>63.7</td>\n",
              "      <td>Customer Visit</td>\n",
              "    </tr>\n",
              "  </tbody>\n",
              "</table>\n",
              "</div>\n",
              "    <div class=\"colab-df-buttons\">\n",
              "\n",
              "  <div class=\"colab-df-container\">\n",
              "    <button class=\"colab-df-convert\" onclick=\"convertToInteractive('df-14cdfcf6-0139-420f-b4c0-3733e6f48c28')\"\n",
              "            title=\"Convert this dataframe to an interactive table.\"\n",
              "            style=\"display:none;\">\n",
              "\n",
              "  <svg xmlns=\"http://www.w3.org/2000/svg\" height=\"24px\" viewBox=\"0 -960 960 960\">\n",
              "    <path d=\"M120-120v-720h720v720H120Zm60-500h600v-160H180v160Zm220 220h160v-160H400v160Zm0 220h160v-160H400v160ZM180-400h160v-160H180v160Zm440 0h160v-160H620v160ZM180-180h160v-160H180v160Zm440 0h160v-160H620v160Z\"/>\n",
              "  </svg>\n",
              "    </button>\n",
              "\n",
              "  <style>\n",
              "    .colab-df-container {\n",
              "      display:flex;\n",
              "      gap: 12px;\n",
              "    }\n",
              "\n",
              "    .colab-df-convert {\n",
              "      background-color: #E8F0FE;\n",
              "      border: none;\n",
              "      border-radius: 50%;\n",
              "      cursor: pointer;\n",
              "      display: none;\n",
              "      fill: #1967D2;\n",
              "      height: 32px;\n",
              "      padding: 0 0 0 0;\n",
              "      width: 32px;\n",
              "    }\n",
              "\n",
              "    .colab-df-convert:hover {\n",
              "      background-color: #E2EBFA;\n",
              "      box-shadow: 0px 1px 2px rgba(60, 64, 67, 0.3), 0px 1px 3px 1px rgba(60, 64, 67, 0.15);\n",
              "      fill: #174EA6;\n",
              "    }\n",
              "\n",
              "    .colab-df-buttons div {\n",
              "      margin-bottom: 4px;\n",
              "    }\n",
              "\n",
              "    [theme=dark] .colab-df-convert {\n",
              "      background-color: #3B4455;\n",
              "      fill: #D2E3FC;\n",
              "    }\n",
              "\n",
              "    [theme=dark] .colab-df-convert:hover {\n",
              "      background-color: #434B5C;\n",
              "      box-shadow: 0px 1px 3px 1px rgba(0, 0, 0, 0.15);\n",
              "      filter: drop-shadow(0px 1px 2px rgba(0, 0, 0, 0.3));\n",
              "      fill: #FFFFFF;\n",
              "    }\n",
              "  </style>\n",
              "\n",
              "    <script>\n",
              "      const buttonEl =\n",
              "        document.querySelector('#df-14cdfcf6-0139-420f-b4c0-3733e6f48c28 button.colab-df-convert');\n",
              "      buttonEl.style.display =\n",
              "        google.colab.kernel.accessAllowed ? 'block' : 'none';\n",
              "\n",
              "      async function convertToInteractive(key) {\n",
              "        const element = document.querySelector('#df-14cdfcf6-0139-420f-b4c0-3733e6f48c28');\n",
              "        const dataTable =\n",
              "          await google.colab.kernel.invokeFunction('convertToInteractive',\n",
              "                                                    [key], {});\n",
              "        if (!dataTable) return;\n",
              "\n",
              "        const docLinkHtml = 'Like what you see? Visit the ' +\n",
              "          '<a target=\"_blank\" href=https://colab.research.google.com/notebooks/data_table.ipynb>data table notebook</a>'\n",
              "          + ' to learn more about interactive tables.';\n",
              "        element.innerHTML = '';\n",
              "        dataTable['output_type'] = 'display_data';\n",
              "        await google.colab.output.renderOutput(dataTable, element);\n",
              "        const docLink = document.createElement('div');\n",
              "        docLink.innerHTML = docLinkHtml;\n",
              "        element.appendChild(docLink);\n",
              "      }\n",
              "    </script>\n",
              "  </div>\n",
              "\n",
              "\n",
              "<div id=\"df-18bc0c28-f575-474b-8ac9-a03539ab70b0\">\n",
              "  <button class=\"colab-df-quickchart\" onclick=\"quickchart('df-18bc0c28-f575-474b-8ac9-a03539ab70b0')\"\n",
              "            title=\"Suggest charts.\"\n",
              "            style=\"display:none;\">\n",
              "\n",
              "<svg xmlns=\"http://www.w3.org/2000/svg\" height=\"24px\"viewBox=\"0 0 24 24\"\n",
              "     width=\"24px\">\n",
              "    <g>\n",
              "        <path d=\"M19 3H5c-1.1 0-2 .9-2 2v14c0 1.1.9 2 2 2h14c1.1 0 2-.9 2-2V5c0-1.1-.9-2-2-2zM9 17H7v-7h2v7zm4 0h-2V7h2v10zm4 0h-2v-4h2v4z\"/>\n",
              "    </g>\n",
              "</svg>\n",
              "  </button>\n",
              "\n",
              "<style>\n",
              "  .colab-df-quickchart {\n",
              "      --bg-color: #E8F0FE;\n",
              "      --fill-color: #1967D2;\n",
              "      --hover-bg-color: #E2EBFA;\n",
              "      --hover-fill-color: #174EA6;\n",
              "      --disabled-fill-color: #AAA;\n",
              "      --disabled-bg-color: #DDD;\n",
              "  }\n",
              "\n",
              "  [theme=dark] .colab-df-quickchart {\n",
              "      --bg-color: #3B4455;\n",
              "      --fill-color: #D2E3FC;\n",
              "      --hover-bg-color: #434B5C;\n",
              "      --hover-fill-color: #FFFFFF;\n",
              "      --disabled-bg-color: #3B4455;\n",
              "      --disabled-fill-color: #666;\n",
              "  }\n",
              "\n",
              "  .colab-df-quickchart {\n",
              "    background-color: var(--bg-color);\n",
              "    border: none;\n",
              "    border-radius: 50%;\n",
              "    cursor: pointer;\n",
              "    display: none;\n",
              "    fill: var(--fill-color);\n",
              "    height: 32px;\n",
              "    padding: 0;\n",
              "    width: 32px;\n",
              "  }\n",
              "\n",
              "  .colab-df-quickchart:hover {\n",
              "    background-color: var(--hover-bg-color);\n",
              "    box-shadow: 0 1px 2px rgba(60, 64, 67, 0.3), 0 1px 3px 1px rgba(60, 64, 67, 0.15);\n",
              "    fill: var(--button-hover-fill-color);\n",
              "  }\n",
              "\n",
              "  .colab-df-quickchart-complete:disabled,\n",
              "  .colab-df-quickchart-complete:disabled:hover {\n",
              "    background-color: var(--disabled-bg-color);\n",
              "    fill: var(--disabled-fill-color);\n",
              "    box-shadow: none;\n",
              "  }\n",
              "\n",
              "  .colab-df-spinner {\n",
              "    border: 2px solid var(--fill-color);\n",
              "    border-color: transparent;\n",
              "    border-bottom-color: var(--fill-color);\n",
              "    animation:\n",
              "      spin 1s steps(1) infinite;\n",
              "  }\n",
              "\n",
              "  @keyframes spin {\n",
              "    0% {\n",
              "      border-color: transparent;\n",
              "      border-bottom-color: var(--fill-color);\n",
              "      border-left-color: var(--fill-color);\n",
              "    }\n",
              "    20% {\n",
              "      border-color: transparent;\n",
              "      border-left-color: var(--fill-color);\n",
              "      border-top-color: var(--fill-color);\n",
              "    }\n",
              "    30% {\n",
              "      border-color: transparent;\n",
              "      border-left-color: var(--fill-color);\n",
              "      border-top-color: var(--fill-color);\n",
              "      border-right-color: var(--fill-color);\n",
              "    }\n",
              "    40% {\n",
              "      border-color: transparent;\n",
              "      border-right-color: var(--fill-color);\n",
              "      border-top-color: var(--fill-color);\n",
              "    }\n",
              "    60% {\n",
              "      border-color: transparent;\n",
              "      border-right-color: var(--fill-color);\n",
              "    }\n",
              "    80% {\n",
              "      border-color: transparent;\n",
              "      border-right-color: var(--fill-color);\n",
              "      border-bottom-color: var(--fill-color);\n",
              "    }\n",
              "    90% {\n",
              "      border-color: transparent;\n",
              "      border-bottom-color: var(--fill-color);\n",
              "    }\n",
              "  }\n",
              "</style>\n",
              "\n",
              "  <script>\n",
              "    async function quickchart(key) {\n",
              "      const quickchartButtonEl =\n",
              "        document.querySelector('#' + key + ' button');\n",
              "      quickchartButtonEl.disabled = true;  // To prevent multiple clicks.\n",
              "      quickchartButtonEl.classList.add('colab-df-spinner');\n",
              "      try {\n",
              "        const charts = await google.colab.kernel.invokeFunction(\n",
              "            'suggestCharts', [key], {});\n",
              "      } catch (error) {\n",
              "        console.error('Error during call to suggestCharts:', error);\n",
              "      }\n",
              "      quickchartButtonEl.classList.remove('colab-df-spinner');\n",
              "      quickchartButtonEl.classList.add('colab-df-quickchart-complete');\n",
              "    }\n",
              "    (() => {\n",
              "      let quickchartButtonEl =\n",
              "        document.querySelector('#df-18bc0c28-f575-474b-8ac9-a03539ab70b0 button');\n",
              "      quickchartButtonEl.style.display =\n",
              "        google.colab.kernel.accessAllowed ? 'block' : 'none';\n",
              "    })();\n",
              "  </script>\n",
              "</div>\n",
              "    </div>\n",
              "  </div>\n"
            ]
          },
          "metadata": {},
          "execution_count": 147
        }
      ]
    },
    {
      "cell_type": "code",
      "source": [
        "df.dtypes"
      ],
      "metadata": {
        "colab": {
          "base_uri": "https://localhost:8080/"
        },
        "id": "7Gtg_FCLQnlf",
        "outputId": "35b71d03-2003-4fb8-f879-d3c41d6c976d"
      },
      "execution_count": 148,
      "outputs": [
        {
          "output_type": "execute_result",
          "data": {
            "text/plain": [
              "START_DATE     object\n",
              "END_DATE       object\n",
              "CATEGORY       object\n",
              "START          object\n",
              "STOP           object\n",
              "MILES         float64\n",
              "PURPOSE        object\n",
              "dtype: object"
            ]
          },
          "metadata": {},
          "execution_count": 148
        }
      ]
    },
    {
      "cell_type": "markdown",
      "source": [
        "checking for null values"
      ],
      "metadata": {
        "id": "PKvQcuwxxZOG"
      }
    },
    {
      "cell_type": "code",
      "source": [
        "df.isnull().sum()"
      ],
      "metadata": {
        "colab": {
          "base_uri": "https://localhost:8080/"
        },
        "id": "9dJaJ9YpYyf6",
        "outputId": "b510cef7-417d-4dc8-d9d2-85fa8e410d34"
      },
      "execution_count": 149,
      "outputs": [
        {
          "output_type": "execute_result",
          "data": {
            "text/plain": [
              "START_DATE      0\n",
              "END_DATE        1\n",
              "CATEGORY        1\n",
              "START           1\n",
              "STOP            1\n",
              "MILES           0\n",
              "PURPOSE       503\n",
              "dtype: int64"
            ]
          },
          "metadata": {},
          "execution_count": 149
        }
      ]
    },
    {
      "cell_type": "markdown",
      "source": [
        "# Imputation"
      ],
      "metadata": {
        "id": "Yg4yhtJJxeOS"
      }
    },
    {
      "cell_type": "code",
      "source": [
        "df['START'].value_counts()"
      ],
      "metadata": {
        "colab": {
          "base_uri": "https://localhost:8080/"
        },
        "id": "tuUduOm6Y_BX",
        "outputId": "3f022bb6-a637-4f0e-92ca-582ae1f03b4a"
      },
      "execution_count": 150,
      "outputs": [
        {
          "output_type": "execute_result",
          "data": {
            "text/plain": [
              "Cary                201\n",
              "Unknown Location    148\n",
              "Morrisville          85\n",
              "Whitebridge          68\n",
              "Islamabad            57\n",
              "                   ... \n",
              "Florence              1\n",
              "Ridgeland             1\n",
              "Daytona Beach         1\n",
              "Sky Lake              1\n",
              "Gampaha               1\n",
              "Name: START, Length: 177, dtype: int64"
            ]
          },
          "metadata": {},
          "execution_count": 150
        }
      ]
    },
    {
      "cell_type": "code",
      "source": [
        "df.START = df.START.fillna('Cary')"
      ],
      "metadata": {
        "id": "oCEvm6ebZL1m"
      },
      "execution_count": 151,
      "outputs": []
    },
    {
      "cell_type": "code",
      "source": [
        "df['STOP'].value_counts()"
      ],
      "metadata": {
        "colab": {
          "base_uri": "https://localhost:8080/"
        },
        "id": "8VV-z0PcZTLg",
        "outputId": "bd553a70-02e2-4407-a5b3-ba67ea05e192"
      },
      "execution_count": 152,
      "outputs": [
        {
          "output_type": "execute_result",
          "data": {
            "text/plain": [
              "Cary                 203\n",
              "Unknown Location     149\n",
              "Morrisville           84\n",
              "Whitebridge           65\n",
              "Islamabad             58\n",
              "                    ... \n",
              "Daytona Beach          1\n",
              "Sand Lake Commons      1\n",
              "Sky Lake               1\n",
              "Vista East             1\n",
              "Ilukwatta              1\n",
              "Name: STOP, Length: 188, dtype: int64"
            ]
          },
          "metadata": {},
          "execution_count": 152
        }
      ]
    },
    {
      "cell_type": "code",
      "source": [
        "df.STOP = df.STOP.fillna('Cary')"
      ],
      "metadata": {
        "id": "t9mDgynUZaaP"
      },
      "execution_count": 153,
      "outputs": []
    },
    {
      "cell_type": "code",
      "source": [
        "df['CATEGORY'].value_counts()"
      ],
      "metadata": {
        "colab": {
          "base_uri": "https://localhost:8080/"
        },
        "id": "n-IqN0cVZoA5",
        "outputId": "cc3f5534-2c65-4aad-f9cd-ce0d62b9b8d1"
      },
      "execution_count": 154,
      "outputs": [
        {
          "output_type": "execute_result",
          "data": {
            "text/plain": [
              "Business    1078\n",
              "Personal      77\n",
              "Name: CATEGORY, dtype: int64"
            ]
          },
          "metadata": {},
          "execution_count": 154
        }
      ]
    },
    {
      "cell_type": "code",
      "source": [
        "df.CATEGORY = df.CATEGORY.fillna('Business')"
      ],
      "metadata": {
        "id": "EZ4XDKm7Z53E"
      },
      "execution_count": 155,
      "outputs": []
    },
    {
      "cell_type": "code",
      "source": [
        "df['PURPOSE'].value_counts()"
      ],
      "metadata": {
        "colab": {
          "base_uri": "https://localhost:8080/"
        },
        "id": "CeHVM6kpaQzx",
        "outputId": "b40071b9-d3af-4195-9fd7-ee32efd6d714"
      },
      "execution_count": 156,
      "outputs": [
        {
          "output_type": "execute_result",
          "data": {
            "text/plain": [
              "Meeting            187\n",
              "Meal/Entertain     160\n",
              "Errand/Supplies    128\n",
              "Customer Visit     101\n",
              "Temporary Site      50\n",
              "Between Offices     18\n",
              "Moving               4\n",
              "Airport/Travel       3\n",
              "Charity ($)          1\n",
              "Commute              1\n",
              "Name: PURPOSE, dtype: int64"
            ]
          },
          "metadata": {},
          "execution_count": 156
        }
      ]
    },
    {
      "cell_type": "code",
      "source": [
        "df.PURPOSE = df.PURPOSE.fillna('Meeting')"
      ],
      "metadata": {
        "id": "ENlulbjyaUPP"
      },
      "execution_count": 157,
      "outputs": []
    },
    {
      "cell_type": "code",
      "source": [
        "df.isnull().sum()"
      ],
      "metadata": {
        "colab": {
          "base_uri": "https://localhost:8080/"
        },
        "id": "P8cLtZb8aiO0",
        "outputId": "ca0f9a67-82d7-4f58-d491-822aa1a06d35"
      },
      "execution_count": 158,
      "outputs": [
        {
          "output_type": "execute_result",
          "data": {
            "text/plain": [
              "START_DATE    0\n",
              "END_DATE      1\n",
              "CATEGORY      0\n",
              "START         0\n",
              "STOP          0\n",
              "MILES         0\n",
              "PURPOSE       0\n",
              "dtype: int64"
            ]
          },
          "metadata": {},
          "execution_count": 158
        }
      ]
    },
    {
      "cell_type": "code",
      "source": [
        "df['END_DATE'].value_counts()"
      ],
      "metadata": {
        "colab": {
          "base_uri": "https://localhost:8080/"
        },
        "id": "ggxfJRP0aoEt",
        "outputId": "03301f9c-4f61-4106-c2bd-0ca953cc2b56"
      },
      "execution_count": 159,
      "outputs": [
        {
          "output_type": "execute_result",
          "data": {
            "text/plain": [
              "6/28/2016 23:59     2\n",
              "01-01-2016 21:17    1\n",
              "9/28/2016 2:37      1\n",
              "9/27/2016 14:43     1\n",
              "9/27/2016 8:35      1\n",
              "                   ..\n",
              "5/27/2016 20:53     1\n",
              "5/27/2016 20:30     1\n",
              "5/23/2016 21:21     1\n",
              "5/23/2016 20:27     1\n",
              "12/31/2016 23:51    1\n",
              "Name: END_DATE, Length: 1154, dtype: int64"
            ]
          },
          "metadata": {},
          "execution_count": 159
        }
      ]
    },
    {
      "cell_type": "code",
      "source": [
        "df.END_DATE = df.END_DATE.fillna('6/28/2016 23:59')"
      ],
      "metadata": {
        "id": "BPgdmLpwau_U"
      },
      "execution_count": 160,
      "outputs": []
    },
    {
      "cell_type": "code",
      "source": [
        "df.isnull().sum()"
      ],
      "metadata": {
        "colab": {
          "base_uri": "https://localhost:8080/"
        },
        "id": "M3kWAAAobDmB",
        "outputId": "0bf71cc0-fafd-4ec6-ee62-3cc6bf56faad"
      },
      "execution_count": 161,
      "outputs": [
        {
          "output_type": "execute_result",
          "data": {
            "text/plain": [
              "START_DATE    0\n",
              "END_DATE      0\n",
              "CATEGORY      0\n",
              "START         0\n",
              "STOP          0\n",
              "MILES         0\n",
              "PURPOSE       0\n",
              "dtype: int64"
            ]
          },
          "metadata": {},
          "execution_count": 161
        }
      ]
    },
    {
      "cell_type": "code",
      "source": [
        "df.describe()"
      ],
      "metadata": {
        "colab": {
          "base_uri": "https://localhost:8080/",
          "height": 300
        },
        "id": "h7OTPaXkbFsB",
        "outputId": "3a5e9a62-eb67-4874-9b30-11e01537ddb1"
      },
      "execution_count": 162,
      "outputs": [
        {
          "output_type": "execute_result",
          "data": {
            "text/plain": [
              "              MILES\n",
              "count   1156.000000\n",
              "mean      21.115398\n",
              "std      359.299007\n",
              "min        0.500000\n",
              "25%        2.900000\n",
              "50%        6.000000\n",
              "75%       10.400000\n",
              "max    12204.700000"
            ],
            "text/html": [
              "\n",
              "  <div id=\"df-5e08da78-7fcc-44b1-9732-f868a8b379d5\" class=\"colab-df-container\">\n",
              "    <div>\n",
              "<style scoped>\n",
              "    .dataframe tbody tr th:only-of-type {\n",
              "        vertical-align: middle;\n",
              "    }\n",
              "\n",
              "    .dataframe tbody tr th {\n",
              "        vertical-align: top;\n",
              "    }\n",
              "\n",
              "    .dataframe thead th {\n",
              "        text-align: right;\n",
              "    }\n",
              "</style>\n",
              "<table border=\"1\" class=\"dataframe\">\n",
              "  <thead>\n",
              "    <tr style=\"text-align: right;\">\n",
              "      <th></th>\n",
              "      <th>MILES</th>\n",
              "    </tr>\n",
              "  </thead>\n",
              "  <tbody>\n",
              "    <tr>\n",
              "      <th>count</th>\n",
              "      <td>1156.000000</td>\n",
              "    </tr>\n",
              "    <tr>\n",
              "      <th>mean</th>\n",
              "      <td>21.115398</td>\n",
              "    </tr>\n",
              "    <tr>\n",
              "      <th>std</th>\n",
              "      <td>359.299007</td>\n",
              "    </tr>\n",
              "    <tr>\n",
              "      <th>min</th>\n",
              "      <td>0.500000</td>\n",
              "    </tr>\n",
              "    <tr>\n",
              "      <th>25%</th>\n",
              "      <td>2.900000</td>\n",
              "    </tr>\n",
              "    <tr>\n",
              "      <th>50%</th>\n",
              "      <td>6.000000</td>\n",
              "    </tr>\n",
              "    <tr>\n",
              "      <th>75%</th>\n",
              "      <td>10.400000</td>\n",
              "    </tr>\n",
              "    <tr>\n",
              "      <th>max</th>\n",
              "      <td>12204.700000</td>\n",
              "    </tr>\n",
              "  </tbody>\n",
              "</table>\n",
              "</div>\n",
              "    <div class=\"colab-df-buttons\">\n",
              "\n",
              "  <div class=\"colab-df-container\">\n",
              "    <button class=\"colab-df-convert\" onclick=\"convertToInteractive('df-5e08da78-7fcc-44b1-9732-f868a8b379d5')\"\n",
              "            title=\"Convert this dataframe to an interactive table.\"\n",
              "            style=\"display:none;\">\n",
              "\n",
              "  <svg xmlns=\"http://www.w3.org/2000/svg\" height=\"24px\" viewBox=\"0 -960 960 960\">\n",
              "    <path d=\"M120-120v-720h720v720H120Zm60-500h600v-160H180v160Zm220 220h160v-160H400v160Zm0 220h160v-160H400v160ZM180-400h160v-160H180v160Zm440 0h160v-160H620v160ZM180-180h160v-160H180v160Zm440 0h160v-160H620v160Z\"/>\n",
              "  </svg>\n",
              "    </button>\n",
              "\n",
              "  <style>\n",
              "    .colab-df-container {\n",
              "      display:flex;\n",
              "      gap: 12px;\n",
              "    }\n",
              "\n",
              "    .colab-df-convert {\n",
              "      background-color: #E8F0FE;\n",
              "      border: none;\n",
              "      border-radius: 50%;\n",
              "      cursor: pointer;\n",
              "      display: none;\n",
              "      fill: #1967D2;\n",
              "      height: 32px;\n",
              "      padding: 0 0 0 0;\n",
              "      width: 32px;\n",
              "    }\n",
              "\n",
              "    .colab-df-convert:hover {\n",
              "      background-color: #E2EBFA;\n",
              "      box-shadow: 0px 1px 2px rgba(60, 64, 67, 0.3), 0px 1px 3px 1px rgba(60, 64, 67, 0.15);\n",
              "      fill: #174EA6;\n",
              "    }\n",
              "\n",
              "    .colab-df-buttons div {\n",
              "      margin-bottom: 4px;\n",
              "    }\n",
              "\n",
              "    [theme=dark] .colab-df-convert {\n",
              "      background-color: #3B4455;\n",
              "      fill: #D2E3FC;\n",
              "    }\n",
              "\n",
              "    [theme=dark] .colab-df-convert:hover {\n",
              "      background-color: #434B5C;\n",
              "      box-shadow: 0px 1px 3px 1px rgba(0, 0, 0, 0.15);\n",
              "      filter: drop-shadow(0px 1px 2px rgba(0, 0, 0, 0.3));\n",
              "      fill: #FFFFFF;\n",
              "    }\n",
              "  </style>\n",
              "\n",
              "    <script>\n",
              "      const buttonEl =\n",
              "        document.querySelector('#df-5e08da78-7fcc-44b1-9732-f868a8b379d5 button.colab-df-convert');\n",
              "      buttonEl.style.display =\n",
              "        google.colab.kernel.accessAllowed ? 'block' : 'none';\n",
              "\n",
              "      async function convertToInteractive(key) {\n",
              "        const element = document.querySelector('#df-5e08da78-7fcc-44b1-9732-f868a8b379d5');\n",
              "        const dataTable =\n",
              "          await google.colab.kernel.invokeFunction('convertToInteractive',\n",
              "                                                    [key], {});\n",
              "        if (!dataTable) return;\n",
              "\n",
              "        const docLinkHtml = 'Like what you see? Visit the ' +\n",
              "          '<a target=\"_blank\" href=https://colab.research.google.com/notebooks/data_table.ipynb>data table notebook</a>'\n",
              "          + ' to learn more about interactive tables.';\n",
              "        element.innerHTML = '';\n",
              "        dataTable['output_type'] = 'display_data';\n",
              "        await google.colab.output.renderOutput(dataTable, element);\n",
              "        const docLink = document.createElement('div');\n",
              "        docLink.innerHTML = docLinkHtml;\n",
              "        element.appendChild(docLink);\n",
              "      }\n",
              "    </script>\n",
              "  </div>\n",
              "\n",
              "\n",
              "<div id=\"df-082f7e0a-bb0f-4fbd-8183-2f88552dca72\">\n",
              "  <button class=\"colab-df-quickchart\" onclick=\"quickchart('df-082f7e0a-bb0f-4fbd-8183-2f88552dca72')\"\n",
              "            title=\"Suggest charts.\"\n",
              "            style=\"display:none;\">\n",
              "\n",
              "<svg xmlns=\"http://www.w3.org/2000/svg\" height=\"24px\"viewBox=\"0 0 24 24\"\n",
              "     width=\"24px\">\n",
              "    <g>\n",
              "        <path d=\"M19 3H5c-1.1 0-2 .9-2 2v14c0 1.1.9 2 2 2h14c1.1 0 2-.9 2-2V5c0-1.1-.9-2-2-2zM9 17H7v-7h2v7zm4 0h-2V7h2v10zm4 0h-2v-4h2v4z\"/>\n",
              "    </g>\n",
              "</svg>\n",
              "  </button>\n",
              "\n",
              "<style>\n",
              "  .colab-df-quickchart {\n",
              "      --bg-color: #E8F0FE;\n",
              "      --fill-color: #1967D2;\n",
              "      --hover-bg-color: #E2EBFA;\n",
              "      --hover-fill-color: #174EA6;\n",
              "      --disabled-fill-color: #AAA;\n",
              "      --disabled-bg-color: #DDD;\n",
              "  }\n",
              "\n",
              "  [theme=dark] .colab-df-quickchart {\n",
              "      --bg-color: #3B4455;\n",
              "      --fill-color: #D2E3FC;\n",
              "      --hover-bg-color: #434B5C;\n",
              "      --hover-fill-color: #FFFFFF;\n",
              "      --disabled-bg-color: #3B4455;\n",
              "      --disabled-fill-color: #666;\n",
              "  }\n",
              "\n",
              "  .colab-df-quickchart {\n",
              "    background-color: var(--bg-color);\n",
              "    border: none;\n",
              "    border-radius: 50%;\n",
              "    cursor: pointer;\n",
              "    display: none;\n",
              "    fill: var(--fill-color);\n",
              "    height: 32px;\n",
              "    padding: 0;\n",
              "    width: 32px;\n",
              "  }\n",
              "\n",
              "  .colab-df-quickchart:hover {\n",
              "    background-color: var(--hover-bg-color);\n",
              "    box-shadow: 0 1px 2px rgba(60, 64, 67, 0.3), 0 1px 3px 1px rgba(60, 64, 67, 0.15);\n",
              "    fill: var(--button-hover-fill-color);\n",
              "  }\n",
              "\n",
              "  .colab-df-quickchart-complete:disabled,\n",
              "  .colab-df-quickchart-complete:disabled:hover {\n",
              "    background-color: var(--disabled-bg-color);\n",
              "    fill: var(--disabled-fill-color);\n",
              "    box-shadow: none;\n",
              "  }\n",
              "\n",
              "  .colab-df-spinner {\n",
              "    border: 2px solid var(--fill-color);\n",
              "    border-color: transparent;\n",
              "    border-bottom-color: var(--fill-color);\n",
              "    animation:\n",
              "      spin 1s steps(1) infinite;\n",
              "  }\n",
              "\n",
              "  @keyframes spin {\n",
              "    0% {\n",
              "      border-color: transparent;\n",
              "      border-bottom-color: var(--fill-color);\n",
              "      border-left-color: var(--fill-color);\n",
              "    }\n",
              "    20% {\n",
              "      border-color: transparent;\n",
              "      border-left-color: var(--fill-color);\n",
              "      border-top-color: var(--fill-color);\n",
              "    }\n",
              "    30% {\n",
              "      border-color: transparent;\n",
              "      border-left-color: var(--fill-color);\n",
              "      border-top-color: var(--fill-color);\n",
              "      border-right-color: var(--fill-color);\n",
              "    }\n",
              "    40% {\n",
              "      border-color: transparent;\n",
              "      border-right-color: var(--fill-color);\n",
              "      border-top-color: var(--fill-color);\n",
              "    }\n",
              "    60% {\n",
              "      border-color: transparent;\n",
              "      border-right-color: var(--fill-color);\n",
              "    }\n",
              "    80% {\n",
              "      border-color: transparent;\n",
              "      border-right-color: var(--fill-color);\n",
              "      border-bottom-color: var(--fill-color);\n",
              "    }\n",
              "    90% {\n",
              "      border-color: transparent;\n",
              "      border-bottom-color: var(--fill-color);\n",
              "    }\n",
              "  }\n",
              "</style>\n",
              "\n",
              "  <script>\n",
              "    async function quickchart(key) {\n",
              "      const quickchartButtonEl =\n",
              "        document.querySelector('#' + key + ' button');\n",
              "      quickchartButtonEl.disabled = true;  // To prevent multiple clicks.\n",
              "      quickchartButtonEl.classList.add('colab-df-spinner');\n",
              "      try {\n",
              "        const charts = await google.colab.kernel.invokeFunction(\n",
              "            'suggestCharts', [key], {});\n",
              "      } catch (error) {\n",
              "        console.error('Error during call to suggestCharts:', error);\n",
              "      }\n",
              "      quickchartButtonEl.classList.remove('colab-df-spinner');\n",
              "      quickchartButtonEl.classList.add('colab-df-quickchart-complete');\n",
              "    }\n",
              "    (() => {\n",
              "      let quickchartButtonEl =\n",
              "        document.querySelector('#df-082f7e0a-bb0f-4fbd-8183-2f88552dca72 button');\n",
              "      quickchartButtonEl.style.display =\n",
              "        google.colab.kernel.accessAllowed ? 'block' : 'none';\n",
              "    })();\n",
              "  </script>\n",
              "</div>\n",
              "    </div>\n",
              "  </div>\n"
            ]
          },
          "metadata": {},
          "execution_count": 162
        }
      ]
    },
    {
      "cell_type": "markdown",
      "source": [
        "# Feature Engineering"
      ],
      "metadata": {
        "id": "kEE8JUb0biD9"
      }
    },
    {
      "cell_type": "code",
      "source": [
        "df.columns"
      ],
      "metadata": {
        "colab": {
          "base_uri": "https://localhost:8080/"
        },
        "id": "jJsmLpbUboBF",
        "outputId": "7e463655-2fba-4c01-970c-239aebdefc5c"
      },
      "execution_count": 163,
      "outputs": [
        {
          "output_type": "execute_result",
          "data": {
            "text/plain": [
              "Index(['START_DATE', 'END_DATE', 'CATEGORY', 'START', 'STOP', 'MILES',\n",
              "       'PURPOSE'],\n",
              "      dtype='object')"
            ]
          },
          "metadata": {},
          "execution_count": 163
        }
      ]
    },
    {
      "cell_type": "code",
      "source": [
        "# Convert the 'START_DATE' and 'END_DATE' columns to datetime with 'coerce'\n",
        "df['START_DATE'] = pd.to_datetime(df['START_DATE'], errors='coerce')\n",
        "df['END_DATE'] = pd.to_datetime(df['END_DATE'], errors='coerce')\n",
        "\n",
        "# Now, check the data types of 'START_DATE' and 'END_DATE' columns\n",
        "print(\"Data type of 'START_DATE':\", df['START_DATE'].dtype)\n",
        "print(\"Data type of 'END_DATE':\", df['END_DATE'].dtype)"
      ],
      "metadata": {
        "colab": {
          "base_uri": "https://localhost:8080/"
        },
        "id": "hWGZT-cUbYWw",
        "outputId": "ab52c4a7-b1d2-4aa7-b55c-80469026f6aa"
      },
      "execution_count": 164,
      "outputs": [
        {
          "output_type": "stream",
          "name": "stdout",
          "text": [
            "Data type of 'START_DATE': datetime64[ns]\n",
            "Data type of 'END_DATE': datetime64[ns]\n"
          ]
        }
      ]
    },
    {
      "cell_type": "markdown",
      "source": [
        "Finding of average miles"
      ],
      "metadata": {
        "id": "a92CWh2Gy1On"
      }
    },
    {
      "cell_type": "code",
      "source": [
        "average_miles_by_purpose = df.groupby('PURPOSE')['MILES'].mean()\n",
        "average_miles_by_purpose"
      ],
      "metadata": {
        "id": "JBsRXIJ4blHK",
        "colab": {
          "base_uri": "https://localhost:8080/"
        },
        "outputId": "75ec0ad7-aeb6-44b6-877d-f2cc37d65072"
      },
      "execution_count": 165,
      "outputs": [
        {
          "output_type": "execute_result",
          "data": {
            "text/plain": [
              "PURPOSE\n",
              "Airport/Travel       5.500000\n",
              "Between Offices     10.944444\n",
              "Charity ($)         15.100000\n",
              "Commute            180.200000\n",
              "Customer Visit      20.688119\n",
              "Errand/Supplies      3.968750\n",
              "Meal/Entertain       5.698125\n",
              "Meeting             28.912319\n",
              "Moving               4.550000\n",
              "Temporary Site      10.474000\n",
              "Name: MILES, dtype: float64"
            ]
          },
          "metadata": {},
          "execution_count": 165
        }
      ]
    },
    {
      "cell_type": "code",
      "source": [
        "sns.countplot(x=df[\"PURPOSE\"])\n",
        "plt.title(\"Value Counts: PURPOSE\")\n",
        "plt.xticks(rotation=90)"
      ],
      "metadata": {
        "colab": {
          "base_uri": "https://localhost:8080/",
          "height": 762
        },
        "id": "BD-GD4ugy7lS",
        "outputId": "10ff3956-7012-401f-dff2-ae247552a60a"
      },
      "execution_count": 166,
      "outputs": [
        {
          "output_type": "execute_result",
          "data": {
            "text/plain": [
              "(array([0, 1, 2, 3, 4, 5, 6, 7, 8, 9]),\n",
              " [Text(0, 0, 'Meal/Entertain'),\n",
              "  Text(1, 0, 'Meeting'),\n",
              "  Text(2, 0, 'Errand/Supplies'),\n",
              "  Text(3, 0, 'Customer Visit'),\n",
              "  Text(4, 0, 'Temporary Site'),\n",
              "  Text(5, 0, 'Between Offices'),\n",
              "  Text(6, 0, 'Charity ($)'),\n",
              "  Text(7, 0, 'Commute'),\n",
              "  Text(8, 0, 'Moving'),\n",
              "  Text(9, 0, 'Airport/Travel')])"
            ]
          },
          "metadata": {},
          "execution_count": 166
        },
        {
          "output_type": "display_data",
          "data": {
            "text/plain": [
              "<Figure size 640x480 with 1 Axes>"
            ],
            "image/png": "[encoded data removed]"
          },
          "metadata": {}
        }
      ]
    },
    {
      "cell_type": "code",
      "source": [
        "sns.countplot(x=df[\"CATEGORY\"])\n",
        "plt.title(\"Value Counts: CATEGORY\")\n",
        "plt.xticks(rotation=45)"
      ],
      "metadata": {
        "colab": {
          "base_uri": "https://localhost:8080/",
          "height": 528
        },
        "id": "yVby5Pey0Tft",
        "outputId": "1cccdb3e-bb00-41f9-a5d8-aabdcf1319dd"
      },
      "execution_count": 167,
      "outputs": [
        {
          "output_type": "execute_result",
          "data": {
            "text/plain": [
              "(array([0, 1]), [Text(0, 0, 'Business'), Text(1, 0, 'Personal')])"
            ]
          },
          "metadata": {},
          "execution_count": 167
        },
        {
          "output_type": "display_data",
          "data": {
            "text/plain": [
              "<Figure size 640x480 with 1 Axes>"
            ],
            "image/png": "[encoded data removed]"
          },
          "metadata": {}
        }
      ]
    },
    {
      "cell_type": "code",
      "source": [
        "df.columns"
      ],
      "metadata": {
        "colab": {
          "base_uri": "https://localhost:8080/"
        },
        "id": "gbGxhm1O0tv3",
        "outputId": "30d9180c-11cc-4ee3-887e-be052c78061e"
      },
      "execution_count": 168,
      "outputs": [
        {
          "output_type": "execute_result",
          "data": {
            "text/plain": [
              "Index(['START_DATE', 'END_DATE', 'CATEGORY', 'START', 'STOP', 'MILES',\n",
              "       'PURPOSE'],\n",
              "      dtype='object')"
            ]
          },
          "metadata": {},
          "execution_count": 168
        }
      ]
    },
    {
      "cell_type": "markdown",
      "source": [
        "# Creating new features"
      ],
      "metadata": {
        "id": "q0BTgGqN1Ki6"
      }
    },
    {
      "cell_type": "code",
      "source": [
        "df['day_name'] = df['START_DATE'].dt.day_name()\n",
        "df[\"month\"] = df['START_DATE'].dt.month_name()"
      ],
      "metadata": {
        "id": "B0W8Yer60ks2"
      },
      "execution_count": 169,
      "outputs": []
    },
    {
      "cell_type": "code",
      "source": [
        "sns.countplot(x=df[\"day_name\"])\n",
        "plt.title(\"Value Counts: Week Days\")\n",
        "plt.xticks(rotation=45)"
      ],
      "metadata": {
        "colab": {
          "base_uri": "https://localhost:8080/",
          "height": 664
        },
        "id": "58wAv6_91TSa",
        "outputId": "87bd377b-b1f1-4542-cca1-b830cf850170"
      },
      "execution_count": 170,
      "outputs": [
        {
          "output_type": "execute_result",
          "data": {
            "text/plain": [
              "(array([0, 1, 2, 3, 4, 5, 6]),\n",
              " [Text(0, 0, 'Friday'),\n",
              "  Text(1, 0, 'Saturday'),\n",
              "  Text(2, 0, 'Tuesday'),\n",
              "  Text(3, 0, 'Wednesday'),\n",
              "  Text(4, 0, 'Thursday'),\n",
              "  Text(5, 0, 'Sunday'),\n",
              "  Text(6, 0, 'Monday')])"
            ]
          },
          "metadata": {},
          "execution_count": 170
        },
        {
          "output_type": "display_data",
          "data": {
            "text/plain": [
              "<Figure size 640x480 with 1 Axes>"
            ],
            "image/png": "[encoded data removed]"
          },
          "metadata": {}
        }
      ]
    },
    {
      "cell_type": "code",
      "source": [
        "time_periods = [0, 6, 12, 18, 24]\n",
        "labels = ['Night', 'Morning', 'Afternoon', 'Evening']\n",
        "\n",
        "df['time_label'] = pd.cut(df['START_DATE'].dt.hour, bins=time_periods, labels=labels, right=False)"
      ],
      "metadata": {
        "id": "AG6wzbvJ1eB9"
      },
      "execution_count": 171,
      "outputs": []
    },
    {
      "cell_type": "code",
      "source": [
        "sns.countplot(x=df[\"time_label\"])\n",
        "plt.title(\"Value Counts: Day Time\")\n",
        "plt.xticks(rotation=45)"
      ],
      "metadata": {
        "colab": {
          "base_uri": "https://localhost:8080/",
          "height": 603
        },
        "id": "1MUdzKR-1o25",
        "outputId": "668df928-4866-4557-dd18-bd399c7b5174"
      },
      "execution_count": 172,
      "outputs": [
        {
          "output_type": "execute_result",
          "data": {
            "text/plain": [
              "(array([0, 1, 2, 3]),\n",
              " [Text(0, 0, 'Night'),\n",
              "  Text(1, 0, 'Morning'),\n",
              "  Text(2, 0, 'Afternoon'),\n",
              "  Text(3, 0, 'Evening')])"
            ]
          },
          "metadata": {},
          "execution_count": 172
        },
        {
          "output_type": "display_data",
          "data": {
            "text/plain": [
              "<Figure size 640x480 with 1 Axes>"
            ],
            "image/png": "[encoded data removed]"
          },
          "metadata": {}
        }
      ]
    },
    {
      "cell_type": "code",
      "source": [
        "sns.barplot(x= df[\"PURPOSE\"], y= df['MILES'],hue = df[\"CATEGORY\"])\n",
        "plt.title(\"Purpose VS Miles Travelled By Category \")\n",
        "plt.xticks(rotation=90)"
      ],
      "metadata": {
        "colab": {
          "base_uri": "https://localhost:8080/",
          "height": 762
        },
        "id": "q3BtHy_115Km",
        "outputId": "e1a011a5-010b-4da8-c793-3f1572068b8d"
      },
      "execution_count": 173,
      "outputs": [
        {
          "output_type": "execute_result",
          "data": {
            "text/plain": [
              "(array([0, 1, 2, 3, 4, 5, 6, 7, 8, 9]),\n",
              " [Text(0, 0, 'Meal/Entertain'),\n",
              "  Text(1, 0, 'Meeting'),\n",
              "  Text(2, 0, 'Errand/Supplies'),\n",
              "  Text(3, 0, 'Customer Visit'),\n",
              "  Text(4, 0, 'Temporary Site'),\n",
              "  Text(5, 0, 'Between Offices'),\n",
              "  Text(6, 0, 'Charity ($)'),\n",
              "  Text(7, 0, 'Commute'),\n",
              "  Text(8, 0, 'Moving'),\n",
              "  Text(9, 0, 'Airport/Travel')])"
            ]
          },
          "metadata": {},
          "execution_count": 173
        },
        {
          "output_type": "display_data",
          "data": {
            "text/plain": [
              "<Figure size 640x480 with 1 Axes>"
            ],
            "image/png": "[encoded data removed]"
          },
          "metadata": {}
        }
      ]
    },
    {
      "cell_type": "markdown",
      "source": [
        "# Density plot for miles"
      ],
      "metadata": {
        "id": "BS5G_qds2cah"
      }
    },
    {
      "cell_type": "code",
      "source": [
        "import warnings\n",
        "sns.distplot(df[\"MILES\"])\n",
        "plt.title(\"Density Plot for Miles\")"
      ],
      "metadata": {
        "colab": {
          "base_uri": "https://localhost:8080/",
          "height": 680
        },
        "id": "I2qpFzCc2TI4",
        "outputId": "017a6554-1ba4-4beb-bccb-5c041d16fb85"
      },
      "execution_count": 174,
      "outputs": [
        {
          "output_type": "stream",
          "name": "stderr",
          "text": [
            "<ipython-input-174-38828a7c7dda>:2: UserWarning: \n",
            "\n",
            "`distplot` is a deprecated function and will be removed in seaborn v0.14.0.\n",
            "\n",
            "Please adapt your code to use either `displot` (a figure-level function with\n",
            "similar flexibility) or `histplot` (an axes-level function for histograms).\n",
            "\n",
            "For a guide to updating your code to use the new functions, please see\n",
            "https://gist.github.com/mwaskom/de44147ed2974457ad6372750bbe5751\n",
            "\n",
            "  sns.distplot(df[\"MILES\"])\n"
          ]
        },
        {
          "output_type": "execute_result",
          "data": {
            "text/plain": [
              "Text(0.5, 1.0, 'Density Plot for Miles')"
            ]
          },
          "metadata": {},
          "execution_count": 174
        },
        {
          "output_type": "display_data",
          "data": {
            "text/plain": [
              "<Figure size 640x480 with 1 Axes>"
            ],
            "image/png": "[encoded data removed]"
          },
          "metadata": {}
        }
      ]
    }
  ]
}